{
 "cells": [
  {
   "cell_type": "code",
   "execution_count": 1,
   "id": "63817eea",
   "metadata": {
    "execution": {
     "iopub.execute_input": "2022-07-19T15:15:57.222475Z",
     "iopub.status.busy": "2022-07-19T15:15:57.221975Z",
     "iopub.status.idle": "2022-07-19T15:15:57.233247Z",
     "shell.execute_reply": "2022-07-19T15:15:57.232142Z"
    },
    "papermill": {
     "duration": 0.027703,
     "end_time": "2022-07-19T15:15:57.235585",
     "exception": false,
     "start_time": "2022-07-19T15:15:57.207882",
     "status": "completed"
    },
    "tags": []
   },
   "outputs": [],
   "source": [
    "import numpy as np\n",
    "import pandas as pd\n",
    "import matplotlib.pyplot as plt"
   ]
  },
  {
   "cell_type": "code",
   "execution_count": 2,
   "id": "1a4ed018",
   "metadata": {
    "execution": {
     "iopub.execute_input": "2022-07-19T15:15:57.266375Z",
     "iopub.status.busy": "2022-07-19T15:15:57.265770Z",
     "iopub.status.idle": "2022-07-19T15:15:57.963714Z",
     "shell.execute_reply": "2022-07-19T15:15:57.962601Z"
    },
    "papermill": {
     "duration": 0.714652,
     "end_time": "2022-07-19T15:15:57.966319",
     "exception": false,
     "start_time": "2022-07-19T15:15:57.251667",
     "status": "completed"
    },
    "tags": []
   },
   "outputs": [],
   "source": [
    "diabetes = pd.read_csv(\"diabetes.csv\")"
   ]
  },
  {
   "cell_type": "code",
   "execution_count": 3,
   "id": "5eac491e",
   "metadata": {
    "execution": {
     "iopub.execute_input": "2022-07-19T15:15:57.992515Z",
     "iopub.status.busy": "2022-07-19T15:15:57.992075Z",
     "iopub.status.idle": "2022-07-19T15:15:58.028490Z",
     "shell.execute_reply": "2022-07-19T15:15:58.027359Z"
    },
    "papermill": {
     "duration": 0.053785,
     "end_time": "2022-07-19T15:15:58.030956",
     "exception": false,
     "start_time": "2022-07-19T15:15:57.977171",
     "status": "completed"
    },
    "tags": []
   },
   "outputs": [
    {
     "data": {
      "text/html": [
       "<div>\n",
       "<style scoped>\n",
       "    .dataframe tbody tr th:only-of-type {\n",
       "        vertical-align: middle;\n",
       "    }\n",
       "\n",
       "    .dataframe tbody tr th {\n",
       "        vertical-align: top;\n",
       "    }\n",
       "\n",
       "    .dataframe thead th {\n",
       "        text-align: right;\n",
       "    }\n",
       "</style>\n",
       "<table border=\"1\" class=\"dataframe\">\n",
       "  <thead>\n",
       "    <tr style=\"text-align: right;\">\n",
       "      <th></th>\n",
       "      <th>id</th>\n",
       "      <th>encounter_id</th>\n",
       "      <th>patient_nbr</th>\n",
       "      <th>race</th>\n",
       "      <th>gender</th>\n",
       "      <th>age</th>\n",
       "      <th>weight</th>\n",
       "      <th>admission_type_id</th>\n",
       "      <th>discharge_disposition_id</th>\n",
       "      <th>admission_source_id</th>\n",
       "      <th>...</th>\n",
       "      <th>citoglipton</th>\n",
       "      <th>insulin</th>\n",
       "      <th>glyburide.metformin</th>\n",
       "      <th>glipizide.metformin</th>\n",
       "      <th>glimepiride.pioglitazone</th>\n",
       "      <th>metformin.rosiglitazone</th>\n",
       "      <th>metformin.pioglitazone</th>\n",
       "      <th>change</th>\n",
       "      <th>diabetesMed</th>\n",
       "      <th>readmitted</th>\n",
       "    </tr>\n",
       "  </thead>\n",
       "  <tbody>\n",
       "    <tr>\n",
       "      <th>0</th>\n",
       "      <td>1</td>\n",
       "      <td>2278392</td>\n",
       "      <td>8222157</td>\n",
       "      <td>Caucasian</td>\n",
       "      <td>Female</td>\n",
       "      <td>[0-10)</td>\n",
       "      <td>?</td>\n",
       "      <td>6</td>\n",
       "      <td>25</td>\n",
       "      <td>1</td>\n",
       "      <td>...</td>\n",
       "      <td>No</td>\n",
       "      <td>No</td>\n",
       "      <td>No</td>\n",
       "      <td>No</td>\n",
       "      <td>No</td>\n",
       "      <td>No</td>\n",
       "      <td>No</td>\n",
       "      <td>No</td>\n",
       "      <td>No</td>\n",
       "      <td>NO</td>\n",
       "    </tr>\n",
       "    <tr>\n",
       "      <th>1</th>\n",
       "      <td>2</td>\n",
       "      <td>149190</td>\n",
       "      <td>55629189</td>\n",
       "      <td>Caucasian</td>\n",
       "      <td>Female</td>\n",
       "      <td>[10-20)</td>\n",
       "      <td>?</td>\n",
       "      <td>1</td>\n",
       "      <td>1</td>\n",
       "      <td>7</td>\n",
       "      <td>...</td>\n",
       "      <td>No</td>\n",
       "      <td>Up</td>\n",
       "      <td>No</td>\n",
       "      <td>No</td>\n",
       "      <td>No</td>\n",
       "      <td>No</td>\n",
       "      <td>No</td>\n",
       "      <td>Ch</td>\n",
       "      <td>Yes</td>\n",
       "      <td>&gt;30</td>\n",
       "    </tr>\n",
       "    <tr>\n",
       "      <th>2</th>\n",
       "      <td>3</td>\n",
       "      <td>64410</td>\n",
       "      <td>86047875</td>\n",
       "      <td>AfricanAmerican</td>\n",
       "      <td>Female</td>\n",
       "      <td>[20-30)</td>\n",
       "      <td>?</td>\n",
       "      <td>1</td>\n",
       "      <td>1</td>\n",
       "      <td>7</td>\n",
       "      <td>...</td>\n",
       "      <td>No</td>\n",
       "      <td>No</td>\n",
       "      <td>No</td>\n",
       "      <td>No</td>\n",
       "      <td>No</td>\n",
       "      <td>No</td>\n",
       "      <td>No</td>\n",
       "      <td>No</td>\n",
       "      <td>Yes</td>\n",
       "      <td>NO</td>\n",
       "    </tr>\n",
       "    <tr>\n",
       "      <th>3</th>\n",
       "      <td>4</td>\n",
       "      <td>500364</td>\n",
       "      <td>82442376</td>\n",
       "      <td>Caucasian</td>\n",
       "      <td>Male</td>\n",
       "      <td>[30-40)</td>\n",
       "      <td>?</td>\n",
       "      <td>1</td>\n",
       "      <td>1</td>\n",
       "      <td>7</td>\n",
       "      <td>...</td>\n",
       "      <td>No</td>\n",
       "      <td>Up</td>\n",
       "      <td>No</td>\n",
       "      <td>No</td>\n",
       "      <td>No</td>\n",
       "      <td>No</td>\n",
       "      <td>No</td>\n",
       "      <td>Ch</td>\n",
       "      <td>Yes</td>\n",
       "      <td>NO</td>\n",
       "    </tr>\n",
       "    <tr>\n",
       "      <th>4</th>\n",
       "      <td>5</td>\n",
       "      <td>16680</td>\n",
       "      <td>42519267</td>\n",
       "      <td>Caucasian</td>\n",
       "      <td>Male</td>\n",
       "      <td>[40-50)</td>\n",
       "      <td>?</td>\n",
       "      <td>1</td>\n",
       "      <td>1</td>\n",
       "      <td>7</td>\n",
       "      <td>...</td>\n",
       "      <td>No</td>\n",
       "      <td>Steady</td>\n",
       "      <td>No</td>\n",
       "      <td>No</td>\n",
       "      <td>No</td>\n",
       "      <td>No</td>\n",
       "      <td>No</td>\n",
       "      <td>Ch</td>\n",
       "      <td>Yes</td>\n",
       "      <td>NO</td>\n",
       "    </tr>\n",
       "  </tbody>\n",
       "</table>\n",
       "<p>5 rows × 51 columns</p>\n",
       "</div>"
      ],
      "text/plain": [
       "   id  encounter_id  patient_nbr             race  gender      age weight  \\\n",
       "0   1       2278392      8222157        Caucasian  Female   [0-10)      ?   \n",
       "1   2        149190     55629189        Caucasian  Female  [10-20)      ?   \n",
       "2   3         64410     86047875  AfricanAmerican  Female  [20-30)      ?   \n",
       "3   4        500364     82442376        Caucasian    Male  [30-40)      ?   \n",
       "4   5         16680     42519267        Caucasian    Male  [40-50)      ?   \n",
       "\n",
       "   admission_type_id  discharge_disposition_id  admission_source_id  ...  \\\n",
       "0                  6                        25                    1  ...   \n",
       "1                  1                         1                    7  ...   \n",
       "2                  1                         1                    7  ...   \n",
       "3                  1                         1                    7  ...   \n",
       "4                  1                         1                    7  ...   \n",
       "\n",
       "   citoglipton insulin glyburide.metformin  glipizide.metformin  \\\n",
       "0           No      No                  No                   No   \n",
       "1           No      Up                  No                   No   \n",
       "2           No      No                  No                   No   \n",
       "3           No      Up                  No                   No   \n",
       "4           No  Steady                  No                   No   \n",
       "\n",
       "   glimepiride.pioglitazone  metformin.rosiglitazone  metformin.pioglitazone  \\\n",
       "0                        No                       No                      No   \n",
       "1                        No                       No                      No   \n",
       "2                        No                       No                      No   \n",
       "3                        No                       No                      No   \n",
       "4                        No                       No                      No   \n",
       "\n",
       "   change  diabetesMed readmitted  \n",
       "0      No           No         NO  \n",
       "1      Ch          Yes        >30  \n",
       "2      No          Yes         NO  \n",
       "3      Ch          Yes         NO  \n",
       "4      Ch          Yes         NO  \n",
       "\n",
       "[5 rows x 51 columns]"
      ]
     },
     "execution_count": 3,
     "metadata": {},
     "output_type": "execute_result"
    }
   ],
   "source": [
    "diabetes.head()"
   ]
  },
  {
   "cell_type": "markdown",
   "id": "a8855270",
   "metadata": {
    "papermill": {
     "duration": 0.010573,
     "end_time": "2022-07-19T15:15:58.052701",
     "exception": false,
     "start_time": "2022-07-19T15:15:58.042128",
     "status": "completed"
    },
    "tags": []
   },
   "source": [
    "## Handling Missing Values"
   ]
  },
  {
   "cell_type": "code",
   "execution_count": 4,
   "id": "27662995",
   "metadata": {
    "execution": {
     "iopub.execute_input": "2022-07-19T15:15:58.076871Z",
     "iopub.status.busy": "2022-07-19T15:15:58.075797Z",
     "iopub.status.idle": "2022-07-19T15:15:58.269575Z",
     "shell.execute_reply": "2022-07-19T15:15:58.267481Z"
    },
    "papermill": {
     "duration": 0.208539,
     "end_time": "2022-07-19T15:15:58.272054",
     "exception": false,
     "start_time": "2022-07-19T15:15:58.063515",
     "status": "completed"
    },
    "tags": []
   },
   "outputs": [
    {
     "name": "stdout",
     "output_type": "stream",
     "text": [
      "<class 'pandas.core.frame.DataFrame'>\n",
      "RangeIndex: 101766 entries, 0 to 101765\n",
      "Data columns (total 51 columns):\n",
      " #   Column                    Non-Null Count   Dtype \n",
      "---  ------                    --------------   ----- \n",
      " 0   id                        101766 non-null  int64 \n",
      " 1   encounter_id              101766 non-null  int64 \n",
      " 2   patient_nbr               101766 non-null  int64 \n",
      " 3   race                      101766 non-null  object\n",
      " 4   gender                    101766 non-null  object\n",
      " 5   age                       101766 non-null  object\n",
      " 6   weight                    101766 non-null  object\n",
      " 7   admission_type_id         101766 non-null  int64 \n",
      " 8   discharge_disposition_id  101766 non-null  int64 \n",
      " 9   admission_source_id       101766 non-null  int64 \n",
      " 10  time_in_hospital          101766 non-null  int64 \n",
      " 11  payer_code                101766 non-null  object\n",
      " 12  medical_specialty         101766 non-null  object\n",
      " 13  num_lab_procedures        101766 non-null  int64 \n",
      " 14  num_procedures            101766 non-null  int64 \n",
      " 15  num_medications           101766 non-null  int64 \n",
      " 16  number_outpatient         101766 non-null  int64 \n",
      " 17  number_emergency          101766 non-null  int64 \n",
      " 18  number_inpatient          101766 non-null  int64 \n",
      " 19  diag_1                    101766 non-null  object\n",
      " 20  diag_2                    101766 non-null  object\n",
      " 21  diag_3                    101766 non-null  object\n",
      " 22  number_diagnoses          101766 non-null  int64 \n",
      " 23  max_glu_serum             101766 non-null  object\n",
      " 24  A1Cresult                 101766 non-null  object\n",
      " 25  metformin                 101766 non-null  object\n",
      " 26  repaglinide               101766 non-null  object\n",
      " 27  nateglinide               101766 non-null  object\n",
      " 28  chlorpropamide            101766 non-null  object\n",
      " 29  glimepiride               101766 non-null  object\n",
      " 30  acetohexamide             101766 non-null  object\n",
      " 31  glipizide                 101766 non-null  object\n",
      " 32  glyburide                 101766 non-null  object\n",
      " 33  tolbutamide               101766 non-null  object\n",
      " 34  pioglitazone              101766 non-null  object\n",
      " 35  rosiglitazone             101766 non-null  object\n",
      " 36  acarbose                  101766 non-null  object\n",
      " 37  miglitol                  101766 non-null  object\n",
      " 38  troglitazone              101766 non-null  object\n",
      " 39  tolazamide                101766 non-null  object\n",
      " 40  examide                   101766 non-null  object\n",
      " 41  citoglipton               101766 non-null  object\n",
      " 42  insulin                   101766 non-null  object\n",
      " 43  glyburide.metformin       101766 non-null  object\n",
      " 44  glipizide.metformin       101766 non-null  object\n",
      " 45  glimepiride.pioglitazone  101766 non-null  object\n",
      " 46  metformin.rosiglitazone   101766 non-null  object\n",
      " 47  metformin.pioglitazone    101766 non-null  object\n",
      " 48  change                    101766 non-null  object\n",
      " 49  diabetesMed               101766 non-null  object\n",
      " 50  readmitted                101766 non-null  object\n",
      "dtypes: int64(14), object(37)\n",
      "memory usage: 39.6+ MB\n"
     ]
    }
   ],
   "source": [
    "diabetes.info()"
   ]
  },
  {
   "cell_type": "code",
   "execution_count": 5,
   "id": "80ac3fe7",
   "metadata": {
    "execution": {
     "iopub.execute_input": "2022-07-19T15:15:58.297905Z",
     "iopub.status.busy": "2022-07-19T15:15:58.296762Z",
     "iopub.status.idle": "2022-07-19T15:15:58.424381Z",
     "shell.execute_reply": "2022-07-19T15:15:58.423058Z"
    },
    "papermill": {
     "duration": 0.143853,
     "end_time": "2022-07-19T15:15:58.427367",
     "exception": false,
     "start_time": "2022-07-19T15:15:58.283514",
     "status": "completed"
    },
    "tags": []
   },
   "outputs": [],
   "source": [
    "diabetes = diabetes.replace(\"?\", np.NaN, )"
   ]
  },
  {
   "cell_type": "code",
   "execution_count": 6,
   "id": "199acfb9",
   "metadata": {
    "execution": {
     "iopub.execute_input": "2022-07-19T15:15:58.452013Z",
     "iopub.status.busy": "2022-07-19T15:15:58.451119Z",
     "iopub.status.idle": "2022-07-19T15:15:58.632806Z",
     "shell.execute_reply": "2022-07-19T15:15:58.631603Z"
    },
    "papermill": {
     "duration": 0.196361,
     "end_time": "2022-07-19T15:15:58.635192",
     "exception": false,
     "start_time": "2022-07-19T15:15:58.438831",
     "status": "completed"
    },
    "tags": []
   },
   "outputs": [
    {
     "data": {
      "text/plain": [
       "id                              0\n",
       "encounter_id                    0\n",
       "patient_nbr                     0\n",
       "race                         2273\n",
       "gender                          0\n",
       "age                             0\n",
       "weight                      98569\n",
       "admission_type_id               0\n",
       "discharge_disposition_id        0\n",
       "admission_source_id             0\n",
       "time_in_hospital                0\n",
       "payer_code                  40256\n",
       "medical_specialty           49949\n",
       "num_lab_procedures              0\n",
       "num_procedures                  0\n",
       "num_medications                 0\n",
       "number_outpatient               0\n",
       "number_emergency                0\n",
       "number_inpatient                0\n",
       "diag_1                         21\n",
       "diag_2                        358\n",
       "diag_3                       1423\n",
       "number_diagnoses                0\n",
       "max_glu_serum                   0\n",
       "A1Cresult                       0\n",
       "metformin                       0\n",
       "repaglinide                     0\n",
       "nateglinide                     0\n",
       "chlorpropamide                  0\n",
       "glimepiride                     0\n",
       "acetohexamide                   0\n",
       "glipizide                       0\n",
       "glyburide                       0\n",
       "tolbutamide                     0\n",
       "pioglitazone                    0\n",
       "rosiglitazone                   0\n",
       "acarbose                        0\n",
       "miglitol                        0\n",
       "troglitazone                    0\n",
       "tolazamide                      0\n",
       "examide                         0\n",
       "citoglipton                     0\n",
       "insulin                         0\n",
       "glyburide.metformin             0\n",
       "glipizide.metformin             0\n",
       "glimepiride.pioglitazone        0\n",
       "metformin.rosiglitazone         0\n",
       "metformin.pioglitazone          0\n",
       "change                          0\n",
       "diabetesMed                     0\n",
       "readmitted                      0\n",
       "dtype: int64"
      ]
     },
     "execution_count": 6,
     "metadata": {},
     "output_type": "execute_result"
    }
   ],
   "source": [
    "diabetes.isnull().sum()"
   ]
  },
  {
   "cell_type": "code",
   "execution_count": 7,
   "id": "f503ef42",
   "metadata": {
    "execution": {
     "iopub.execute_input": "2022-07-19T15:15:58.661284Z",
     "iopub.status.busy": "2022-07-19T15:15:58.660250Z",
     "iopub.status.idle": "2022-07-19T15:15:58.668663Z",
     "shell.execute_reply": "2022-07-19T15:15:58.667851Z"
    },
    "papermill": {
     "duration": 0.023649,
     "end_time": "2022-07-19T15:15:58.670653",
     "exception": false,
     "start_time": "2022-07-19T15:15:58.647004",
     "status": "completed"
    },
    "tags": []
   },
   "outputs": [
    {
     "data": {
      "text/plain": [
       "0               Caucasian\n",
       "1               Caucasian\n",
       "2         AfricanAmerican\n",
       "3               Caucasian\n",
       "4               Caucasian\n",
       "               ...       \n",
       "101761    AfricanAmerican\n",
       "101762    AfricanAmerican\n",
       "101763          Caucasian\n",
       "101764          Caucasian\n",
       "101765          Caucasian\n",
       "Name: race, Length: 101766, dtype: object"
      ]
     },
     "execution_count": 7,
     "metadata": {},
     "output_type": "execute_result"
    }
   ],
   "source": [
    "diabetes[\"race\"]"
   ]
  },
  {
   "cell_type": "code",
   "execution_count": 8,
   "id": "86e4d619",
   "metadata": {
    "execution": {
     "iopub.execute_input": "2022-07-19T15:15:58.696563Z",
     "iopub.status.busy": "2022-07-19T15:15:58.695820Z",
     "iopub.status.idle": "2022-07-19T15:15:59.340983Z",
     "shell.execute_reply": "2022-07-19T15:15:59.339367Z"
    },
    "papermill": {
     "duration": 0.661436,
     "end_time": "2022-07-19T15:15:59.343899",
     "exception": false,
     "start_time": "2022-07-19T15:15:58.682463",
     "status": "completed"
    },
    "tags": []
   },
   "outputs": [],
   "source": [
    "#Replacing missing race with previous value – Forward fill\n",
    "\n",
    "diabetes = diabetes.where(~diabetes.race.isnull(), diabetes.fillna(axis=0, method='ffill'))"
   ]
  },
  {
   "cell_type": "code",
   "execution_count": 9,
   "id": "764827ee",
   "metadata": {
    "execution": {
     "iopub.execute_input": "2022-07-19T15:15:59.370861Z",
     "iopub.status.busy": "2022-07-19T15:15:59.370006Z",
     "iopub.status.idle": "2022-07-19T15:15:59.390622Z",
     "shell.execute_reply": "2022-07-19T15:15:59.389350Z"
    },
    "papermill": {
     "duration": 0.036177,
     "end_time": "2022-07-19T15:15:59.393238",
     "exception": false,
     "start_time": "2022-07-19T15:15:59.357061",
     "status": "completed"
    },
    "tags": []
   },
   "outputs": [
    {
     "data": {
      "text/html": [
       "<div>\n",
       "<style scoped>\n",
       "    .dataframe tbody tr th:only-of-type {\n",
       "        vertical-align: middle;\n",
       "    }\n",
       "\n",
       "    .dataframe tbody tr th {\n",
       "        vertical-align: top;\n",
       "    }\n",
       "\n",
       "    .dataframe thead th {\n",
       "        text-align: right;\n",
       "    }\n",
       "</style>\n",
       "<table border=\"1\" class=\"dataframe\">\n",
       "  <thead>\n",
       "    <tr style=\"text-align: right;\">\n",
       "      <th></th>\n",
       "      <th>id</th>\n",
       "      <th>encounter_id</th>\n",
       "      <th>patient_nbr</th>\n",
       "      <th>race</th>\n",
       "      <th>gender</th>\n",
       "      <th>age</th>\n",
       "      <th>weight</th>\n",
       "      <th>admission_type_id</th>\n",
       "      <th>discharge_disposition_id</th>\n",
       "      <th>admission_source_id</th>\n",
       "      <th>...</th>\n",
       "      <th>citoglipton</th>\n",
       "      <th>insulin</th>\n",
       "      <th>glyburide.metformin</th>\n",
       "      <th>glipizide.metformin</th>\n",
       "      <th>glimepiride.pioglitazone</th>\n",
       "      <th>metformin.rosiglitazone</th>\n",
       "      <th>metformin.pioglitazone</th>\n",
       "      <th>change</th>\n",
       "      <th>diabetesMed</th>\n",
       "      <th>readmitted</th>\n",
       "    </tr>\n",
       "  </thead>\n",
       "  <tbody>\n",
       "    <tr>\n",
       "      <th>0</th>\n",
       "      <td>1</td>\n",
       "      <td>2278392</td>\n",
       "      <td>8222157</td>\n",
       "      <td>Caucasian</td>\n",
       "      <td>Female</td>\n",
       "      <td>[0-10)</td>\n",
       "      <td>NaN</td>\n",
       "      <td>6</td>\n",
       "      <td>25</td>\n",
       "      <td>1</td>\n",
       "      <td>...</td>\n",
       "      <td>No</td>\n",
       "      <td>No</td>\n",
       "      <td>No</td>\n",
       "      <td>No</td>\n",
       "      <td>No</td>\n",
       "      <td>No</td>\n",
       "      <td>No</td>\n",
       "      <td>No</td>\n",
       "      <td>No</td>\n",
       "      <td>NO</td>\n",
       "    </tr>\n",
       "    <tr>\n",
       "      <th>1</th>\n",
       "      <td>2</td>\n",
       "      <td>149190</td>\n",
       "      <td>55629189</td>\n",
       "      <td>Caucasian</td>\n",
       "      <td>Female</td>\n",
       "      <td>[10-20)</td>\n",
       "      <td>NaN</td>\n",
       "      <td>1</td>\n",
       "      <td>1</td>\n",
       "      <td>7</td>\n",
       "      <td>...</td>\n",
       "      <td>No</td>\n",
       "      <td>Up</td>\n",
       "      <td>No</td>\n",
       "      <td>No</td>\n",
       "      <td>No</td>\n",
       "      <td>No</td>\n",
       "      <td>No</td>\n",
       "      <td>Ch</td>\n",
       "      <td>Yes</td>\n",
       "      <td>&gt;30</td>\n",
       "    </tr>\n",
       "    <tr>\n",
       "      <th>2</th>\n",
       "      <td>3</td>\n",
       "      <td>64410</td>\n",
       "      <td>86047875</td>\n",
       "      <td>AfricanAmerican</td>\n",
       "      <td>Female</td>\n",
       "      <td>[20-30)</td>\n",
       "      <td>NaN</td>\n",
       "      <td>1</td>\n",
       "      <td>1</td>\n",
       "      <td>7</td>\n",
       "      <td>...</td>\n",
       "      <td>No</td>\n",
       "      <td>No</td>\n",
       "      <td>No</td>\n",
       "      <td>No</td>\n",
       "      <td>No</td>\n",
       "      <td>No</td>\n",
       "      <td>No</td>\n",
       "      <td>No</td>\n",
       "      <td>Yes</td>\n",
       "      <td>NO</td>\n",
       "    </tr>\n",
       "    <tr>\n",
       "      <th>3</th>\n",
       "      <td>4</td>\n",
       "      <td>500364</td>\n",
       "      <td>82442376</td>\n",
       "      <td>Caucasian</td>\n",
       "      <td>Male</td>\n",
       "      <td>[30-40)</td>\n",
       "      <td>NaN</td>\n",
       "      <td>1</td>\n",
       "      <td>1</td>\n",
       "      <td>7</td>\n",
       "      <td>...</td>\n",
       "      <td>No</td>\n",
       "      <td>Up</td>\n",
       "      <td>No</td>\n",
       "      <td>No</td>\n",
       "      <td>No</td>\n",
       "      <td>No</td>\n",
       "      <td>No</td>\n",
       "      <td>Ch</td>\n",
       "      <td>Yes</td>\n",
       "      <td>NO</td>\n",
       "    </tr>\n",
       "    <tr>\n",
       "      <th>4</th>\n",
       "      <td>5</td>\n",
       "      <td>16680</td>\n",
       "      <td>42519267</td>\n",
       "      <td>Caucasian</td>\n",
       "      <td>Male</td>\n",
       "      <td>[40-50)</td>\n",
       "      <td>NaN</td>\n",
       "      <td>1</td>\n",
       "      <td>1</td>\n",
       "      <td>7</td>\n",
       "      <td>...</td>\n",
       "      <td>No</td>\n",
       "      <td>Steady</td>\n",
       "      <td>No</td>\n",
       "      <td>No</td>\n",
       "      <td>No</td>\n",
       "      <td>No</td>\n",
       "      <td>No</td>\n",
       "      <td>Ch</td>\n",
       "      <td>Yes</td>\n",
       "      <td>NO</td>\n",
       "    </tr>\n",
       "  </tbody>\n",
       "</table>\n",
       "<p>5 rows × 51 columns</p>\n",
       "</div>"
      ],
      "text/plain": [
       "   id  encounter_id  patient_nbr             race  gender      age weight  \\\n",
       "0   1       2278392      8222157        Caucasian  Female   [0-10)    NaN   \n",
       "1   2        149190     55629189        Caucasian  Female  [10-20)    NaN   \n",
       "2   3         64410     86047875  AfricanAmerican  Female  [20-30)    NaN   \n",
       "3   4        500364     82442376        Caucasian    Male  [30-40)    NaN   \n",
       "4   5         16680     42519267        Caucasian    Male  [40-50)    NaN   \n",
       "\n",
       "   admission_type_id  discharge_disposition_id  admission_source_id  ...  \\\n",
       "0                  6                        25                    1  ...   \n",
       "1                  1                         1                    7  ...   \n",
       "2                  1                         1                    7  ...   \n",
       "3                  1                         1                    7  ...   \n",
       "4                  1                         1                    7  ...   \n",
       "\n",
       "   citoglipton insulin glyburide.metformin  glipizide.metformin  \\\n",
       "0           No      No                  No                   No   \n",
       "1           No      Up                  No                   No   \n",
       "2           No      No                  No                   No   \n",
       "3           No      Up                  No                   No   \n",
       "4           No  Steady                  No                   No   \n",
       "\n",
       "   glimepiride.pioglitazone  metformin.rosiglitazone  metformin.pioglitazone  \\\n",
       "0                        No                       No                      No   \n",
       "1                        No                       No                      No   \n",
       "2                        No                       No                      No   \n",
       "3                        No                       No                      No   \n",
       "4                        No                       No                      No   \n",
       "\n",
       "   change  diabetesMed readmitted  \n",
       "0      No           No         NO  \n",
       "1      Ch          Yes        >30  \n",
       "2      No          Yes         NO  \n",
       "3      Ch          Yes         NO  \n",
       "4      Ch          Yes         NO  \n",
       "\n",
       "[5 rows x 51 columns]"
      ]
     },
     "execution_count": 9,
     "metadata": {},
     "output_type": "execute_result"
    }
   ],
   "source": [
    "diabetes.head()"
   ]
  },
  {
   "cell_type": "code",
   "execution_count": 10,
   "id": "07292351",
   "metadata": {
    "execution": {
     "iopub.execute_input": "2022-07-19T15:15:59.420007Z",
     "iopub.status.busy": "2022-07-19T15:15:59.419598Z",
     "iopub.status.idle": "2022-07-19T15:15:59.432394Z",
     "shell.execute_reply": "2022-07-19T15:15:59.431168Z"
    },
    "papermill": {
     "duration": 0.028702,
     "end_time": "2022-07-19T15:15:59.434794",
     "exception": false,
     "start_time": "2022-07-19T15:15:59.406092",
     "status": "completed"
    },
    "tags": []
   },
   "outputs": [],
   "source": [
    "count = (diabetes[\"race\"] == \"?\").sum()"
   ]
  },
  {
   "cell_type": "code",
   "execution_count": 11,
   "id": "3bd46fa9",
   "metadata": {
    "execution": {
     "iopub.execute_input": "2022-07-19T15:15:59.461469Z",
     "iopub.status.busy": "2022-07-19T15:15:59.460703Z",
     "iopub.status.idle": "2022-07-19T15:15:59.467355Z",
     "shell.execute_reply": "2022-07-19T15:15:59.466523Z"
    },
    "papermill": {
     "duration": 0.022195,
     "end_time": "2022-07-19T15:15:59.469460",
     "exception": false,
     "start_time": "2022-07-19T15:15:59.447265",
     "status": "completed"
    },
    "tags": []
   },
   "outputs": [
    {
     "data": {
      "text/plain": [
       "0"
      ]
     },
     "execution_count": 11,
     "metadata": {},
     "output_type": "execute_result"
    }
   ],
   "source": [
    "count"
   ]
  },
  {
   "cell_type": "code",
   "execution_count": 12,
   "id": "59fe16d8",
   "metadata": {
    "execution": {
     "iopub.execute_input": "2022-07-19T15:15:59.496681Z",
     "iopub.status.busy": "2022-07-19T15:15:59.495886Z",
     "iopub.status.idle": "2022-07-19T15:15:59.510609Z",
     "shell.execute_reply": "2022-07-19T15:15:59.509694Z"
    },
    "papermill": {
     "duration": 0.031367,
     "end_time": "2022-07-19T15:15:59.513220",
     "exception": false,
     "start_time": "2022-07-19T15:15:59.481853",
     "status": "completed"
    },
    "tags": []
   },
   "outputs": [],
   "source": [
    "diabetes['weight'] = diabetes['weight'].fillna(diabetes['weight'].mode()[0])"
   ]
  },
  {
   "cell_type": "code",
   "execution_count": 13,
   "id": "5885be86",
   "metadata": {
    "execution": {
     "iopub.execute_input": "2022-07-19T15:15:59.539821Z",
     "iopub.status.busy": "2022-07-19T15:15:59.539003Z",
     "iopub.status.idle": "2022-07-19T15:15:59.977347Z",
     "shell.execute_reply": "2022-07-19T15:15:59.976094Z"
    },
    "papermill": {
     "duration": 0.455044,
     "end_time": "2022-07-19T15:15:59.980261",
     "exception": false,
     "start_time": "2022-07-19T15:15:59.525217",
     "status": "completed"
    },
    "tags": []
   },
   "outputs": [],
   "source": [
    "diabetes = diabetes.where(~diabetes.payer_code.isnull(), diabetes.fillna(axis=0, method='ffill'))"
   ]
  },
  {
   "cell_type": "code",
   "execution_count": 14,
   "id": "79340b02",
   "metadata": {
    "execution": {
     "iopub.execute_input": "2022-07-19T15:16:00.007752Z",
     "iopub.status.busy": "2022-07-19T15:16:00.007303Z",
     "iopub.status.idle": "2022-07-19T15:16:00.458043Z",
     "shell.execute_reply": "2022-07-19T15:16:00.456740Z"
    },
    "papermill": {
     "duration": 0.467493,
     "end_time": "2022-07-19T15:16:00.460712",
     "exception": false,
     "start_time": "2022-07-19T15:15:59.993219",
     "status": "completed"
    },
    "tags": []
   },
   "outputs": [],
   "source": [
    "diabetes = diabetes.where(~diabetes.medical_specialty.isnull(), diabetes.fillna(axis=0, method='ffill'))"
   ]
  },
  {
   "cell_type": "code",
   "execution_count": 15,
   "id": "b97b4011",
   "metadata": {
    "execution": {
     "iopub.execute_input": "2022-07-19T15:16:00.486711Z",
     "iopub.status.busy": "2022-07-19T15:16:00.486295Z",
     "iopub.status.idle": "2022-07-19T15:16:01.615700Z",
     "shell.execute_reply": "2022-07-19T15:16:01.614506Z"
    },
    "papermill": {
     "duration": 1.145528,
     "end_time": "2022-07-19T15:16:01.618500",
     "exception": false,
     "start_time": "2022-07-19T15:16:00.472972",
     "status": "completed"
    },
    "tags": []
   },
   "outputs": [],
   "source": [
    "diabetes = diabetes.where(~diabetes.diag_1.isnull(), diabetes.fillna(axis=0, method='ffill'))\n",
    "diabetes = diabetes.where(~diabetes.diag_2.isnull(), diabetes.fillna(axis=0, method='ffill'))\n",
    "diabetes = diabetes.where(~diabetes.diag_3.isnull(), diabetes.fillna(axis=0, method='ffill'))"
   ]
  },
  {
   "cell_type": "code",
   "execution_count": 16,
   "id": "ad24250f",
   "metadata": {
    "execution": {
     "iopub.execute_input": "2022-07-19T15:16:01.645113Z",
     "iopub.status.busy": "2022-07-19T15:16:01.644711Z",
     "iopub.status.idle": "2022-07-19T15:16:01.821606Z",
     "shell.execute_reply": "2022-07-19T15:16:01.820384Z"
    },
    "papermill": {
     "duration": 0.193641,
     "end_time": "2022-07-19T15:16:01.824335",
     "exception": false,
     "start_time": "2022-07-19T15:16:01.630694",
     "status": "completed"
    },
    "tags": []
   },
   "outputs": [
    {
     "name": "stdout",
     "output_type": "stream",
     "text": [
      "<class 'pandas.core.frame.DataFrame'>\n",
      "RangeIndex: 101766 entries, 0 to 101765\n",
      "Data columns (total 51 columns):\n",
      " #   Column                    Non-Null Count   Dtype \n",
      "---  ------                    --------------   ----- \n",
      " 0   id                        101766 non-null  int64 \n",
      " 1   encounter_id              101766 non-null  int64 \n",
      " 2   patient_nbr               101766 non-null  int64 \n",
      " 3   race                      101766 non-null  object\n",
      " 4   gender                    101766 non-null  object\n",
      " 5   age                       101766 non-null  object\n",
      " 6   weight                    101766 non-null  object\n",
      " 7   admission_type_id         101766 non-null  int64 \n",
      " 8   discharge_disposition_id  101766 non-null  int64 \n",
      " 9   admission_source_id       101766 non-null  int64 \n",
      " 10  time_in_hospital          101766 non-null  int64 \n",
      " 11  payer_code                81320 non-null   object\n",
      " 12  medical_specialty         101766 non-null  object\n",
      " 13  num_lab_procedures        101766 non-null  int64 \n",
      " 14  num_procedures            101766 non-null  int64 \n",
      " 15  num_medications           101766 non-null  int64 \n",
      " 16  number_outpatient         101766 non-null  int64 \n",
      " 17  number_emergency          101766 non-null  int64 \n",
      " 18  number_inpatient          101766 non-null  int64 \n",
      " 19  diag_1                    101766 non-null  object\n",
      " 20  diag_2                    101765 non-null  object\n",
      " 21  diag_3                    101765 non-null  object\n",
      " 22  number_diagnoses          101766 non-null  int64 \n",
      " 23  max_glu_serum             101766 non-null  object\n",
      " 24  A1Cresult                 101766 non-null  object\n",
      " 25  metformin                 101766 non-null  object\n",
      " 26  repaglinide               101766 non-null  object\n",
      " 27  nateglinide               101766 non-null  object\n",
      " 28  chlorpropamide            101766 non-null  object\n",
      " 29  glimepiride               101766 non-null  object\n",
      " 30  acetohexamide             101766 non-null  object\n",
      " 31  glipizide                 101766 non-null  object\n",
      " 32  glyburide                 101766 non-null  object\n",
      " 33  tolbutamide               101766 non-null  object\n",
      " 34  pioglitazone              101766 non-null  object\n",
      " 35  rosiglitazone             101766 non-null  object\n",
      " 36  acarbose                  101766 non-null  object\n",
      " 37  miglitol                  101766 non-null  object\n",
      " 38  troglitazone              101766 non-null  object\n",
      " 39  tolazamide                101766 non-null  object\n",
      " 40  examide                   101766 non-null  object\n",
      " 41  citoglipton               101766 non-null  object\n",
      " 42  insulin                   101766 non-null  object\n",
      " 43  glyburide.metformin       101766 non-null  object\n",
      " 44  glipizide.metformin       101766 non-null  object\n",
      " 45  glimepiride.pioglitazone  101766 non-null  object\n",
      " 46  metformin.rosiglitazone   101766 non-null  object\n",
      " 47  metformin.pioglitazone    101766 non-null  object\n",
      " 48  change                    101766 non-null  object\n",
      " 49  diabetesMed               101766 non-null  object\n",
      " 50  readmitted                101766 non-null  object\n",
      "dtypes: int64(14), object(37)\n",
      "memory usage: 39.6+ MB\n"
     ]
    }
   ],
   "source": [
    "diabetes.info()"
   ]
  },
  {
   "cell_type": "markdown",
   "id": "b209c9a7",
   "metadata": {
    "papermill": {
     "duration": 0.012441,
     "end_time": "2022-07-19T15:16:01.849530",
     "exception": false,
     "start_time": "2022-07-19T15:16:01.837089",
     "status": "completed"
    },
    "tags": []
   },
   "source": [
    "## EDA"
   ]
  },
  {
   "cell_type": "code",
   "execution_count": 17,
   "id": "81bfefd2",
   "metadata": {
    "execution": {
     "iopub.execute_input": "2022-07-19T15:16:01.876717Z",
     "iopub.status.busy": "2022-07-19T15:16:01.875748Z",
     "iopub.status.idle": "2022-07-19T15:16:01.899768Z",
     "shell.execute_reply": "2022-07-19T15:16:01.898581Z"
    },
    "papermill": {
     "duration": 0.040075,
     "end_time": "2022-07-19T15:16:01.902072",
     "exception": false,
     "start_time": "2022-07-19T15:16:01.861997",
     "status": "completed"
    },
    "tags": []
   },
   "outputs": [
    {
     "data": {
      "text/html": [
       "<div>\n",
       "<style scoped>\n",
       "    .dataframe tbody tr th:only-of-type {\n",
       "        vertical-align: middle;\n",
       "    }\n",
       "\n",
       "    .dataframe tbody tr th {\n",
       "        vertical-align: top;\n",
       "    }\n",
       "\n",
       "    .dataframe thead th {\n",
       "        text-align: right;\n",
       "    }\n",
       "</style>\n",
       "<table border=\"1\" class=\"dataframe\">\n",
       "  <thead>\n",
       "    <tr style=\"text-align: right;\">\n",
       "      <th></th>\n",
       "      <th>id</th>\n",
       "      <th>encounter_id</th>\n",
       "      <th>patient_nbr</th>\n",
       "      <th>race</th>\n",
       "      <th>gender</th>\n",
       "      <th>age</th>\n",
       "      <th>weight</th>\n",
       "      <th>admission_type_id</th>\n",
       "      <th>discharge_disposition_id</th>\n",
       "      <th>admission_source_id</th>\n",
       "      <th>...</th>\n",
       "      <th>citoglipton</th>\n",
       "      <th>insulin</th>\n",
       "      <th>glyburide.metformin</th>\n",
       "      <th>glipizide.metformin</th>\n",
       "      <th>glimepiride.pioglitazone</th>\n",
       "      <th>metformin.rosiglitazone</th>\n",
       "      <th>metformin.pioglitazone</th>\n",
       "      <th>change</th>\n",
       "      <th>diabetesMed</th>\n",
       "      <th>readmitted</th>\n",
       "    </tr>\n",
       "  </thead>\n",
       "  <tbody>\n",
       "    <tr>\n",
       "      <th>0</th>\n",
       "      <td>1</td>\n",
       "      <td>2278392</td>\n",
       "      <td>8222157</td>\n",
       "      <td>Caucasian</td>\n",
       "      <td>Female</td>\n",
       "      <td>[0-10)</td>\n",
       "      <td>[75-100)</td>\n",
       "      <td>6</td>\n",
       "      <td>25</td>\n",
       "      <td>1</td>\n",
       "      <td>...</td>\n",
       "      <td>No</td>\n",
       "      <td>No</td>\n",
       "      <td>No</td>\n",
       "      <td>No</td>\n",
       "      <td>No</td>\n",
       "      <td>No</td>\n",
       "      <td>No</td>\n",
       "      <td>No</td>\n",
       "      <td>No</td>\n",
       "      <td>NO</td>\n",
       "    </tr>\n",
       "    <tr>\n",
       "      <th>1</th>\n",
       "      <td>2</td>\n",
       "      <td>149190</td>\n",
       "      <td>55629189</td>\n",
       "      <td>Caucasian</td>\n",
       "      <td>Female</td>\n",
       "      <td>[10-20)</td>\n",
       "      <td>[75-100)</td>\n",
       "      <td>1</td>\n",
       "      <td>1</td>\n",
       "      <td>7</td>\n",
       "      <td>...</td>\n",
       "      <td>No</td>\n",
       "      <td>Up</td>\n",
       "      <td>No</td>\n",
       "      <td>No</td>\n",
       "      <td>No</td>\n",
       "      <td>No</td>\n",
       "      <td>No</td>\n",
       "      <td>Ch</td>\n",
       "      <td>Yes</td>\n",
       "      <td>&gt;30</td>\n",
       "    </tr>\n",
       "    <tr>\n",
       "      <th>2</th>\n",
       "      <td>3</td>\n",
       "      <td>64410</td>\n",
       "      <td>86047875</td>\n",
       "      <td>AfricanAmerican</td>\n",
       "      <td>Female</td>\n",
       "      <td>[20-30)</td>\n",
       "      <td>[75-100)</td>\n",
       "      <td>1</td>\n",
       "      <td>1</td>\n",
       "      <td>7</td>\n",
       "      <td>...</td>\n",
       "      <td>No</td>\n",
       "      <td>No</td>\n",
       "      <td>No</td>\n",
       "      <td>No</td>\n",
       "      <td>No</td>\n",
       "      <td>No</td>\n",
       "      <td>No</td>\n",
       "      <td>No</td>\n",
       "      <td>Yes</td>\n",
       "      <td>NO</td>\n",
       "    </tr>\n",
       "    <tr>\n",
       "      <th>3</th>\n",
       "      <td>4</td>\n",
       "      <td>500364</td>\n",
       "      <td>82442376</td>\n",
       "      <td>Caucasian</td>\n",
       "      <td>Male</td>\n",
       "      <td>[30-40)</td>\n",
       "      <td>[75-100)</td>\n",
       "      <td>1</td>\n",
       "      <td>1</td>\n",
       "      <td>7</td>\n",
       "      <td>...</td>\n",
       "      <td>No</td>\n",
       "      <td>Up</td>\n",
       "      <td>No</td>\n",
       "      <td>No</td>\n",
       "      <td>No</td>\n",
       "      <td>No</td>\n",
       "      <td>No</td>\n",
       "      <td>Ch</td>\n",
       "      <td>Yes</td>\n",
       "      <td>NO</td>\n",
       "    </tr>\n",
       "    <tr>\n",
       "      <th>4</th>\n",
       "      <td>5</td>\n",
       "      <td>16680</td>\n",
       "      <td>42519267</td>\n",
       "      <td>Caucasian</td>\n",
       "      <td>Male</td>\n",
       "      <td>[40-50)</td>\n",
       "      <td>[75-100)</td>\n",
       "      <td>1</td>\n",
       "      <td>1</td>\n",
       "      <td>7</td>\n",
       "      <td>...</td>\n",
       "      <td>No</td>\n",
       "      <td>Steady</td>\n",
       "      <td>No</td>\n",
       "      <td>No</td>\n",
       "      <td>No</td>\n",
       "      <td>No</td>\n",
       "      <td>No</td>\n",
       "      <td>Ch</td>\n",
       "      <td>Yes</td>\n",
       "      <td>NO</td>\n",
       "    </tr>\n",
       "  </tbody>\n",
       "</table>\n",
       "<p>5 rows × 51 columns</p>\n",
       "</div>"
      ],
      "text/plain": [
       "   id  encounter_id  patient_nbr             race  gender      age    weight  \\\n",
       "0   1       2278392      8222157        Caucasian  Female   [0-10)  [75-100)   \n",
       "1   2        149190     55629189        Caucasian  Female  [10-20)  [75-100)   \n",
       "2   3         64410     86047875  AfricanAmerican  Female  [20-30)  [75-100)   \n",
       "3   4        500364     82442376        Caucasian    Male  [30-40)  [75-100)   \n",
       "4   5         16680     42519267        Caucasian    Male  [40-50)  [75-100)   \n",
       "\n",
       "   admission_type_id  discharge_disposition_id  admission_source_id  ...  \\\n",
       "0                  6                        25                    1  ...   \n",
       "1                  1                         1                    7  ...   \n",
       "2                  1                         1                    7  ...   \n",
       "3                  1                         1                    7  ...   \n",
       "4                  1                         1                    7  ...   \n",
       "\n",
       "   citoglipton insulin glyburide.metformin  glipizide.metformin  \\\n",
       "0           No      No                  No                   No   \n",
       "1           No      Up                  No                   No   \n",
       "2           No      No                  No                   No   \n",
       "3           No      Up                  No                   No   \n",
       "4           No  Steady                  No                   No   \n",
       "\n",
       "   glimepiride.pioglitazone  metformin.rosiglitazone  metformin.pioglitazone  \\\n",
       "0                        No                       No                      No   \n",
       "1                        No                       No                      No   \n",
       "2                        No                       No                      No   \n",
       "3                        No                       No                      No   \n",
       "4                        No                       No                      No   \n",
       "\n",
       "   change  diabetesMed readmitted  \n",
       "0      No           No         NO  \n",
       "1      Ch          Yes        >30  \n",
       "2      No          Yes         NO  \n",
       "3      Ch          Yes         NO  \n",
       "4      Ch          Yes         NO  \n",
       "\n",
       "[5 rows x 51 columns]"
      ]
     },
     "execution_count": 17,
     "metadata": {},
     "output_type": "execute_result"
    }
   ],
   "source": [
    "diabetes.head()"
   ]
  },
  {
   "cell_type": "code",
   "execution_count": 18,
   "id": "d2b2b7e5",
   "metadata": {
    "execution": {
     "iopub.execute_input": "2022-07-19T15:16:01.929708Z",
     "iopub.status.busy": "2022-07-19T15:16:01.929286Z",
     "iopub.status.idle": "2022-07-19T15:16:01.943095Z",
     "shell.execute_reply": "2022-07-19T15:16:01.941821Z"
    },
    "papermill": {
     "duration": 0.030444,
     "end_time": "2022-07-19T15:16:01.945566",
     "exception": false,
     "start_time": "2022-07-19T15:16:01.915122",
     "status": "completed"
    },
    "tags": []
   },
   "outputs": [],
   "source": [
    "df = diabetes.groupby([\"race\"]).size().sort_values(ascending = False)"
   ]
  },
  {
   "cell_type": "code",
   "execution_count": 19,
   "id": "7f0e7007",
   "metadata": {
    "execution": {
     "iopub.execute_input": "2022-07-19T15:16:01.972495Z",
     "iopub.status.busy": "2022-07-19T15:16:01.972096Z",
     "iopub.status.idle": "2022-07-19T15:16:01.980019Z",
     "shell.execute_reply": "2022-07-19T15:16:01.978872Z"
    },
    "papermill": {
     "duration": 0.023977,
     "end_time": "2022-07-19T15:16:01.982160",
     "exception": false,
     "start_time": "2022-07-19T15:16:01.958183",
     "status": "completed"
    },
    "tags": []
   },
   "outputs": [
    {
     "data": {
      "text/plain": [
       "race\n",
       "Caucasian          77840\n",
       "AfricanAmerican    19622\n",
       "Hispanic            2094\n",
       "Other               1542\n",
       "Asian                668\n",
       "dtype: int64"
      ]
     },
     "execution_count": 19,
     "metadata": {},
     "output_type": "execute_result"
    }
   ],
   "source": [
    "df"
   ]
  },
  {
   "cell_type": "code",
   "execution_count": 20,
   "id": "537df266",
   "metadata": {
    "execution": {
     "iopub.execute_input": "2022-07-19T15:16:02.009955Z",
     "iopub.status.busy": "2022-07-19T15:16:02.009595Z",
     "iopub.status.idle": "2022-07-19T15:16:02.271969Z",
     "shell.execute_reply": "2022-07-19T15:16:02.270815Z"
    },
    "papermill": {
     "duration": 0.278875,
     "end_time": "2022-07-19T15:16:02.274464",
     "exception": false,
     "start_time": "2022-07-19T15:16:01.995589",
     "status": "completed"
    },
    "tags": []
   },
   "outputs": [],
   "source": [
    "Caucasian = diabetes.loc[diabetes[\"race\"]==\"Caucasian\"].count()[0]\n",
    "Afro_American = diabetes.loc[diabetes[\"race\"]==\"AfricanAmerican\"].count()[0]\n",
    "Hispanic = diabetes.loc[diabetes[\"race\"]==\"Hispanic\"].count()[0]\n",
    "Other = diabetes.loc[diabetes[\"race\"]==\"Other\"].count()[0]\n",
    "Asian = diabetes.loc[diabetes[\"race\"]==\"Asian\"].count()[0]"
   ]
  },
  {
   "cell_type": "code",
   "execution_count": 21,
   "id": "63cf7063",
   "metadata": {
    "execution": {
     "iopub.execute_input": "2022-07-19T15:16:02.304489Z",
     "iopub.status.busy": "2022-07-19T15:16:02.303696Z",
     "iopub.status.idle": "2022-07-19T15:16:02.618125Z",
     "shell.execute_reply": "2022-07-19T15:16:02.616370Z"
    },
    "papermill": {
     "duration": 0.334915,
     "end_time": "2022-07-19T15:16:02.622304",
     "exception": false,
     "start_time": "2022-07-19T15:16:02.287389",
     "status": "completed"
    },
    "tags": []
   },
   "outputs": [
    {
     "data": {
      "image/png": "[encoded data removed]",
      "text/plain": [
       "<Figure size 500x500 with 1 Axes>"
      ]
     },
     "metadata": {},
     "output_type": "display_data"
    }
   ],
   "source": [
    "plt.figure(figsize = [5,5], dpi = 100)\n",
    "labels = [\"Caucasian\", \"Afro-American\", \"Hispanic\", \"Other\", \"Asian\"]\n",
    "explode = [0,0.2,0.5,0.5,0.5]\n",
    "\n",
    "plt.pie([Caucasian, Afro_American, Hispanic, Other, Asian], labels = labels, autopct = \"%0.2f%%\", explode = explode)\n",
    "plt.title(\"Diabetes Patients by Race\", fontdict = {\"fontweight\": \"bold\"})\n",
    "\n",
    "plt.legend()\n",
    "plt.show()"
   ]
  },
  {
   "cell_type": "markdown",
   "id": "8b8dc15e",
   "metadata": {
    "papermill": {
     "duration": 0.01413,
     "end_time": "2022-07-19T15:16:02.652126",
     "exception": false,
     "start_time": "2022-07-19T15:16:02.637996",
     "status": "completed"
    },
    "tags": []
   },
   "source": [
    "**Caucasian are largest group of diabetic patients diagnosed, followed by Afro-American.**"
   ]
  },
  {
   "cell_type": "code",
   "execution_count": 22,
   "id": "af3c054e",
   "metadata": {
    "execution": {
     "iopub.execute_input": "2022-07-19T15:16:02.680411Z",
     "iopub.status.busy": "2022-07-19T15:16:02.679997Z",
     "iopub.status.idle": "2022-07-19T15:16:02.692755Z",
     "shell.execute_reply": "2022-07-19T15:16:02.691875Z"
    },
    "papermill": {
     "duration": 0.029534,
     "end_time": "2022-07-19T15:16:02.695067",
     "exception": false,
     "start_time": "2022-07-19T15:16:02.665533",
     "status": "completed"
    },
    "tags": []
   },
   "outputs": [],
   "source": [
    "df = diabetes.groupby([\"gender\"]).size().sort_values(ascending = False)"
   ]
  },
  {
   "cell_type": "code",
   "execution_count": 23,
   "id": "22cd7775",
   "metadata": {
    "execution": {
     "iopub.execute_input": "2022-07-19T15:16:02.723665Z",
     "iopub.status.busy": "2022-07-19T15:16:02.722700Z",
     "iopub.status.idle": "2022-07-19T15:16:02.730476Z",
     "shell.execute_reply": "2022-07-19T15:16:02.729316Z"
    },
    "papermill": {
     "duration": 0.024677,
     "end_time": "2022-07-19T15:16:02.732850",
     "exception": false,
     "start_time": "2022-07-19T15:16:02.708173",
     "status": "completed"
    },
    "tags": []
   },
   "outputs": [
    {
     "data": {
      "text/plain": [
       "gender\n",
       "Female             54708\n",
       "Male               47055\n",
       "Unknown/Invalid        3\n",
       "dtype: int64"
      ]
     },
     "execution_count": 23,
     "metadata": {},
     "output_type": "execute_result"
    }
   ],
   "source": [
    "df"
   ]
  },
  {
   "cell_type": "code",
   "execution_count": 24,
   "id": "6dd435a3",
   "metadata": {
    "execution": {
     "iopub.execute_input": "2022-07-19T15:16:02.761019Z",
     "iopub.status.busy": "2022-07-19T15:16:02.760657Z",
     "iopub.status.idle": "2022-07-19T15:16:02.993139Z",
     "shell.execute_reply": "2022-07-19T15:16:02.991899Z"
    },
    "papermill": {
     "duration": 0.249807,
     "end_time": "2022-07-19T15:16:02.995860",
     "exception": false,
     "start_time": "2022-07-19T15:16:02.746053",
     "status": "completed"
    },
    "tags": []
   },
   "outputs": [],
   "source": [
    "Male = diabetes.loc[diabetes[\"gender\"]==\"Male\"].count()[0]\n",
    "Female = diabetes.loc[diabetes[\"gender\"]==\"Female\"].count()[0]\n",
    "Other = diabetes.loc[diabetes[\"gender\"]==\"Other\"].count()[0]"
   ]
  },
  {
   "cell_type": "code",
   "execution_count": 25,
   "id": "56881161",
   "metadata": {
    "execution": {
     "iopub.execute_input": "2022-07-19T15:16:03.026903Z",
     "iopub.status.busy": "2022-07-19T15:16:03.026523Z",
     "iopub.status.idle": "2022-07-19T15:16:03.229829Z",
     "shell.execute_reply": "2022-07-19T15:16:03.228292Z"
    },
    "papermill": {
     "duration": 0.222731,
     "end_time": "2022-07-19T15:16:03.233395",
     "exception": false,
     "start_time": "2022-07-19T15:16:03.010664",
     "status": "completed"
    },
    "tags": []
   },
   "outputs": [
    {
     "data": {
      "image/png": "[encoded data removed]",
      "text/plain": [
       "<Figure size 500x500 with 1 Axes>"
      ]
     },
     "metadata": {},
     "output_type": "display_data"
    }
   ],
   "source": [
    "plt.figure(figsize = [5,5], dpi = 100)\n",
    "labels = [\"Male\", \"Female\", \"Other\"]\n",
    "colors = [\"Blue\", \"Red\", \"Green\"]\n",
    "\n",
    "plt.pie([Male, Female, Other], colors = colors, labels = labels, autopct = \"%0.2f%%\")\n",
    "plt.title(\"Diabetes Patients by Gender\", fontdict = {\"fontweight\": \"bold\"})\n",
    "\n",
    "plt.legend()\n",
    "plt.show()"
   ]
  },
  {
   "cell_type": "markdown",
   "id": "7606ac5f",
   "metadata": {
    "papermill": {
     "duration": 0.013963,
     "end_time": "2022-07-19T15:16:03.271275",
     "exception": false,
     "start_time": "2022-07-19T15:16:03.257312",
     "status": "completed"
    },
    "tags": []
   },
   "source": [
    "**Females are marginally more in number than Males. Others are negligible.**"
   ]
  },
  {
   "cell_type": "code",
   "execution_count": 26,
   "id": "09e7bb02",
   "metadata": {
    "execution": {
     "iopub.execute_input": "2022-07-19T15:16:03.302571Z",
     "iopub.status.busy": "2022-07-19T15:16:03.301581Z",
     "iopub.status.idle": "2022-07-19T15:16:03.315474Z",
     "shell.execute_reply": "2022-07-19T15:16:03.313693Z"
    },
    "papermill": {
     "duration": 0.033183,
     "end_time": "2022-07-19T15:16:03.318896",
     "exception": false,
     "start_time": "2022-07-19T15:16:03.285713",
     "status": "completed"
    },
    "tags": []
   },
   "outputs": [],
   "source": [
    "df = diabetes.groupby([\"age\"]).size()"
   ]
  },
  {
   "cell_type": "code",
   "execution_count": 27,
   "id": "cd173dab",
   "metadata": {
    "execution": {
     "iopub.execute_input": "2022-07-19T15:16:03.348837Z",
     "iopub.status.busy": "2022-07-19T15:16:03.348445Z",
     "iopub.status.idle": "2022-07-19T15:16:03.355930Z",
     "shell.execute_reply": "2022-07-19T15:16:03.354952Z"
    },
    "papermill": {
     "duration": 0.024745,
     "end_time": "2022-07-19T15:16:03.357848",
     "exception": false,
     "start_time": "2022-07-19T15:16:03.333103",
     "status": "completed"
    },
    "tags": []
   },
   "outputs": [
    {
     "data": {
      "text/plain": [
       "age\n",
       "[0-10)        161\n",
       "[10-20)       691\n",
       "[20-30)      1657\n",
       "[30-40)      3775\n",
       "[40-50)      9685\n",
       "[50-60)     17256\n",
       "[60-70)     22483\n",
       "[70-80)     26068\n",
       "[80-90)     17197\n",
       "[90-100)     2793\n",
       "dtype: int64"
      ]
     },
     "execution_count": 27,
     "metadata": {},
     "output_type": "execute_result"
    }
   ],
   "source": [
    "df"
   ]
  },
  {
   "cell_type": "code",
   "execution_count": 28,
   "id": "4e6269a0",
   "metadata": {
    "execution": {
     "iopub.execute_input": "2022-07-19T15:16:03.388261Z",
     "iopub.status.busy": "2022-07-19T15:16:03.387603Z",
     "iopub.status.idle": "2022-07-19T15:16:03.393415Z",
     "shell.execute_reply": "2022-07-19T15:16:03.392142Z"
    },
    "papermill": {
     "duration": 0.023799,
     "end_time": "2022-07-19T15:16:03.395833",
     "exception": false,
     "start_time": "2022-07-19T15:16:03.372034",
     "status": "completed"
    },
    "tags": []
   },
   "outputs": [],
   "source": [
    "df1 = pd.DataFrame(df)"
   ]
  },
  {
   "cell_type": "code",
   "execution_count": 29,
   "id": "6f99d3cc",
   "metadata": {
    "execution": {
     "iopub.execute_input": "2022-07-19T15:16:03.426535Z",
     "iopub.status.busy": "2022-07-19T15:16:03.425790Z",
     "iopub.status.idle": "2022-07-19T15:16:03.430415Z",
     "shell.execute_reply": "2022-07-19T15:16:03.429566Z"
    },
    "papermill": {
     "duration": 0.022892,
     "end_time": "2022-07-19T15:16:03.432722",
     "exception": false,
     "start_time": "2022-07-19T15:16:03.409830",
     "status": "completed"
    },
    "tags": []
   },
   "outputs": [],
   "source": [
    "df1.columns = [\"Count\"]"
   ]
  },
  {
   "cell_type": "code",
   "execution_count": 30,
   "id": "3fcd74ae",
   "metadata": {
    "execution": {
     "iopub.execute_input": "2022-07-19T15:16:03.464426Z",
     "iopub.status.busy": "2022-07-19T15:16:03.463722Z",
     "iopub.status.idle": "2022-07-19T15:16:03.472531Z",
     "shell.execute_reply": "2022-07-19T15:16:03.471755Z"
    },
    "papermill": {
     "duration": 0.026378,
     "end_time": "2022-07-19T15:16:03.474535",
     "exception": false,
     "start_time": "2022-07-19T15:16:03.448157",
     "status": "completed"
    },
    "tags": []
   },
   "outputs": [
    {
     "data": {
      "text/html": [
       "<div>\n",
       "<style scoped>\n",
       "    .dataframe tbody tr th:only-of-type {\n",
       "        vertical-align: middle;\n",
       "    }\n",
       "\n",
       "    .dataframe tbody tr th {\n",
       "        vertical-align: top;\n",
       "    }\n",
       "\n",
       "    .dataframe thead th {\n",
       "        text-align: right;\n",
       "    }\n",
       "</style>\n",
       "<table border=\"1\" class=\"dataframe\">\n",
       "  <thead>\n",
       "    <tr style=\"text-align: right;\">\n",
       "      <th></th>\n",
       "      <th>Count</th>\n",
       "    </tr>\n",
       "    <tr>\n",
       "      <th>age</th>\n",
       "      <th></th>\n",
       "    </tr>\n",
       "  </thead>\n",
       "  <tbody>\n",
       "    <tr>\n",
       "      <th>[0-10)</th>\n",
       "      <td>161</td>\n",
       "    </tr>\n",
       "    <tr>\n",
       "      <th>[10-20)</th>\n",
       "      <td>691</td>\n",
       "    </tr>\n",
       "    <tr>\n",
       "      <th>[20-30)</th>\n",
       "      <td>1657</td>\n",
       "    </tr>\n",
       "    <tr>\n",
       "      <th>[30-40)</th>\n",
       "      <td>3775</td>\n",
       "    </tr>\n",
       "    <tr>\n",
       "      <th>[40-50)</th>\n",
       "      <td>9685</td>\n",
       "    </tr>\n",
       "    <tr>\n",
       "      <th>[50-60)</th>\n",
       "      <td>17256</td>\n",
       "    </tr>\n",
       "    <tr>\n",
       "      <th>[60-70)</th>\n",
       "      <td>22483</td>\n",
       "    </tr>\n",
       "    <tr>\n",
       "      <th>[70-80)</th>\n",
       "      <td>26068</td>\n",
       "    </tr>\n",
       "    <tr>\n",
       "      <th>[80-90)</th>\n",
       "      <td>17197</td>\n",
       "    </tr>\n",
       "    <tr>\n",
       "      <th>[90-100)</th>\n",
       "      <td>2793</td>\n",
       "    </tr>\n",
       "  </tbody>\n",
       "</table>\n",
       "</div>"
      ],
      "text/plain": [
       "          Count\n",
       "age            \n",
       "[0-10)      161\n",
       "[10-20)     691\n",
       "[20-30)    1657\n",
       "[30-40)    3775\n",
       "[40-50)    9685\n",
       "[50-60)   17256\n",
       "[60-70)   22483\n",
       "[70-80)   26068\n",
       "[80-90)   17197\n",
       "[90-100)   2793"
      ]
     },
     "execution_count": 30,
     "metadata": {},
     "output_type": "execute_result"
    }
   ],
   "source": [
    "df1"
   ]
  },
  {
   "cell_type": "code",
   "execution_count": 31,
   "id": "b26714a1",
   "metadata": {
    "execution": {
     "iopub.execute_input": "2022-07-19T15:16:03.506365Z",
     "iopub.status.busy": "2022-07-19T15:16:03.505635Z",
     "iopub.status.idle": "2022-07-19T15:16:03.512080Z",
     "shell.execute_reply": "2022-07-19T15:16:03.511136Z"
    },
    "papermill": {
     "duration": 0.026345,
     "end_time": "2022-07-19T15:16:03.515027",
     "exception": false,
     "start_time": "2022-07-19T15:16:03.488682",
     "status": "completed"
    },
    "tags": []
   },
   "outputs": [],
   "source": [
    "df1[\"pct\"] = (df1[\"Count\"]/(df1[\"Count\"].sum()))*100"
   ]
  },
  {
   "cell_type": "code",
   "execution_count": 32,
   "id": "cf2e1d16",
   "metadata": {
    "execution": {
     "iopub.execute_input": "2022-07-19T15:16:03.548900Z",
     "iopub.status.busy": "2022-07-19T15:16:03.548481Z",
     "iopub.status.idle": "2022-07-19T15:16:03.556578Z",
     "shell.execute_reply": "2022-07-19T15:16:03.555660Z"
    },
    "papermill": {
     "duration": 0.029416,
     "end_time": "2022-07-19T15:16:03.559579",
     "exception": false,
     "start_time": "2022-07-19T15:16:03.530163",
     "status": "completed"
    },
    "tags": []
   },
   "outputs": [
    {
     "data": {
      "text/plain": [
       "age\n",
       "[0-10)       0.158206\n",
       "[10-20)      0.679009\n",
       "[20-30)      1.628245\n",
       "[30-40)      3.709490\n",
       "[40-50)      9.516931\n",
       "[50-60)     16.956547\n",
       "[60-70)     22.092840\n",
       "[70-80)     25.615628\n",
       "[80-90)     16.898571\n",
       "[90-100)     2.744532\n",
       "Name: pct, dtype: float64"
      ]
     },
     "execution_count": 32,
     "metadata": {},
     "output_type": "execute_result"
    }
   ],
   "source": [
    "df1[\"pct\"]"
   ]
  },
  {
   "cell_type": "code",
   "execution_count": 33,
   "id": "5a1e652b",
   "metadata": {
    "execution": {
     "iopub.execute_input": "2022-07-19T15:16:03.593312Z",
     "iopub.status.busy": "2022-07-19T15:16:03.592493Z",
     "iopub.status.idle": "2022-07-19T15:16:03.602707Z",
     "shell.execute_reply": "2022-07-19T15:16:03.601721Z"
    },
    "papermill": {
     "duration": 0.02951,
     "end_time": "2022-07-19T15:16:03.605381",
     "exception": false,
     "start_time": "2022-07-19T15:16:03.575871",
     "status": "completed"
    },
    "tags": []
   },
   "outputs": [
    {
     "data": {
      "text/html": [
       "<div>\n",
       "<style scoped>\n",
       "    .dataframe tbody tr th:only-of-type {\n",
       "        vertical-align: middle;\n",
       "    }\n",
       "\n",
       "    .dataframe tbody tr th {\n",
       "        vertical-align: top;\n",
       "    }\n",
       "\n",
       "    .dataframe thead th {\n",
       "        text-align: right;\n",
       "    }\n",
       "</style>\n",
       "<table border=\"1\" class=\"dataframe\">\n",
       "  <thead>\n",
       "    <tr style=\"text-align: right;\">\n",
       "      <th></th>\n",
       "      <th>Count</th>\n",
       "      <th>pct</th>\n",
       "    </tr>\n",
       "    <tr>\n",
       "      <th>age</th>\n",
       "      <th></th>\n",
       "      <th></th>\n",
       "    </tr>\n",
       "  </thead>\n",
       "  <tbody>\n",
       "    <tr>\n",
       "      <th>[0-10)</th>\n",
       "      <td>161</td>\n",
       "      <td>0.158206</td>\n",
       "    </tr>\n",
       "    <tr>\n",
       "      <th>[10-20)</th>\n",
       "      <td>691</td>\n",
       "      <td>0.679009</td>\n",
       "    </tr>\n",
       "    <tr>\n",
       "      <th>[20-30)</th>\n",
       "      <td>1657</td>\n",
       "      <td>1.628245</td>\n",
       "    </tr>\n",
       "    <tr>\n",
       "      <th>[30-40)</th>\n",
       "      <td>3775</td>\n",
       "      <td>3.709490</td>\n",
       "    </tr>\n",
       "    <tr>\n",
       "      <th>[40-50)</th>\n",
       "      <td>9685</td>\n",
       "      <td>9.516931</td>\n",
       "    </tr>\n",
       "    <tr>\n",
       "      <th>[50-60)</th>\n",
       "      <td>17256</td>\n",
       "      <td>16.956547</td>\n",
       "    </tr>\n",
       "    <tr>\n",
       "      <th>[60-70)</th>\n",
       "      <td>22483</td>\n",
       "      <td>22.092840</td>\n",
       "    </tr>\n",
       "    <tr>\n",
       "      <th>[70-80)</th>\n",
       "      <td>26068</td>\n",
       "      <td>25.615628</td>\n",
       "    </tr>\n",
       "    <tr>\n",
       "      <th>[80-90)</th>\n",
       "      <td>17197</td>\n",
       "      <td>16.898571</td>\n",
       "    </tr>\n",
       "    <tr>\n",
       "      <th>[90-100)</th>\n",
       "      <td>2793</td>\n",
       "      <td>2.744532</td>\n",
       "    </tr>\n",
       "  </tbody>\n",
       "</table>\n",
       "</div>"
      ],
      "text/plain": [
       "          Count        pct\n",
       "age                       \n",
       "[0-10)      161   0.158206\n",
       "[10-20)     691   0.679009\n",
       "[20-30)    1657   1.628245\n",
       "[30-40)    3775   3.709490\n",
       "[40-50)    9685   9.516931\n",
       "[50-60)   17256  16.956547\n",
       "[60-70)   22483  22.092840\n",
       "[70-80)   26068  25.615628\n",
       "[80-90)   17197  16.898571\n",
       "[90-100)   2793   2.744532"
      ]
     },
     "execution_count": 33,
     "metadata": {},
     "output_type": "execute_result"
    }
   ],
   "source": [
    "df1"
   ]
  },
  {
   "cell_type": "code",
   "execution_count": 34,
   "id": "58f97bff",
   "metadata": {
    "execution": {
     "iopub.execute_input": "2022-07-19T15:16:03.639911Z",
     "iopub.status.busy": "2022-07-19T15:16:03.639211Z",
     "iopub.status.idle": "2022-07-19T15:16:03.884438Z",
     "shell.execute_reply": "2022-07-19T15:16:03.883221Z"
    },
    "papermill": {
     "duration": 0.265227,
     "end_time": "2022-07-19T15:16:03.887128",
     "exception": false,
     "start_time": "2022-07-19T15:16:03.621901",
     "status": "completed"
    },
    "tags": []
   },
   "outputs": [
    {
     "data": {
      "image/png": "[encoded data removed]",
      "text/plain": [
       "<Figure size 800x500 with 1 Axes>"
      ]
     },
     "metadata": {
      "needs_background": "light"
     },
     "output_type": "display_data"
    }
   ],
   "source": [
    "plt.figure(figsize = [8,5], dpi = 100)\n",
    "\n",
    "plt.xlabel(\"Age Group --->\", fontdict = {\"fontname\": \"Comic Sans MS\", \"fontsize\": 15})  # to label the axis x and y\n",
    "plt.ylabel(\"Percentage of Patients --->\", fontdict = {\"fontname\": \"Comic Sans MS\", \"fontsize\": 15})\n",
    "\n",
    "plt.plot(df1[\"pct\"], label = \"Diabetes cases %\", color = \"red\", linewidth = 3, marker = \"*\", markersize = 10)\n",
    "plt.title(\"Diabetes Patients Percentage by Age Group\", fontdict = {\"fontweight\": \"bold\"})\n",
    "\n",
    "plt.yticks([0,5,10,15,20,25,30,35,40,45,50])\n",
    "\n",
    "plt.legend()\n",
    "plt.show()"
   ]
  },
  {
   "cell_type": "markdown",
   "id": "a634c4cd",
   "metadata": {
    "papermill": {
     "duration": 0.015898,
     "end_time": "2022-07-19T15:16:03.918704",
     "exception": false,
     "start_time": "2022-07-19T15:16:03.902806",
     "status": "completed"
    },
    "tags": []
   },
   "source": [
    "**Patients in age group [70-80) forms largest percentage of patients i.e. around 25%. While [0-10} form smallest percentage.**"
   ]
  },
  {
   "cell_type": "code",
   "execution_count": 35,
   "id": "bba6ca87",
   "metadata": {
    "execution": {
     "iopub.execute_input": "2022-07-19T15:16:03.952448Z",
     "iopub.status.busy": "2022-07-19T15:16:03.952040Z",
     "iopub.status.idle": "2022-07-19T15:16:03.970113Z",
     "shell.execute_reply": "2022-07-19T15:16:03.968751Z"
    },
    "papermill": {
     "duration": 0.038038,
     "end_time": "2022-07-19T15:16:03.972777",
     "exception": false,
     "start_time": "2022-07-19T15:16:03.934739",
     "status": "completed"
    },
    "tags": []
   },
   "outputs": [],
   "source": [
    "t_in_h = pd.DataFrame(diabetes[\"time_in_hospital\"].groupby(diabetes[\"age\"]).mean())"
   ]
  },
  {
   "cell_type": "code",
   "execution_count": 36,
   "id": "6121f03a",
   "metadata": {
    "execution": {
     "iopub.execute_input": "2022-07-19T15:16:04.006226Z",
     "iopub.status.busy": "2022-07-19T15:16:04.005812Z",
     "iopub.status.idle": "2022-07-19T15:16:04.016413Z",
     "shell.execute_reply": "2022-07-19T15:16:04.015208Z"
    },
    "papermill": {
     "duration": 0.030446,
     "end_time": "2022-07-19T15:16:04.018827",
     "exception": false,
     "start_time": "2022-07-19T15:16:03.988381",
     "status": "completed"
    },
    "tags": []
   },
   "outputs": [
    {
     "data": {
      "text/html": [
       "<div>\n",
       "<style scoped>\n",
       "    .dataframe tbody tr th:only-of-type {\n",
       "        vertical-align: middle;\n",
       "    }\n",
       "\n",
       "    .dataframe tbody tr th {\n",
       "        vertical-align: top;\n",
       "    }\n",
       "\n",
       "    .dataframe thead th {\n",
       "        text-align: right;\n",
       "    }\n",
       "</style>\n",
       "<table border=\"1\" class=\"dataframe\">\n",
       "  <thead>\n",
       "    <tr style=\"text-align: right;\">\n",
       "      <th></th>\n",
       "      <th>time_in_hospital</th>\n",
       "    </tr>\n",
       "    <tr>\n",
       "      <th>age</th>\n",
       "      <th></th>\n",
       "    </tr>\n",
       "  </thead>\n",
       "  <tbody>\n",
       "    <tr>\n",
       "      <th>[0-10)</th>\n",
       "      <td>2.546584</td>\n",
       "    </tr>\n",
       "    <tr>\n",
       "      <th>[10-20)</th>\n",
       "      <td>3.191027</td>\n",
       "    </tr>\n",
       "    <tr>\n",
       "      <th>[20-30)</th>\n",
       "      <td>3.564876</td>\n",
       "    </tr>\n",
       "    <tr>\n",
       "      <th>[30-40)</th>\n",
       "      <td>3.799735</td>\n",
       "    </tr>\n",
       "    <tr>\n",
       "      <th>[40-50)</th>\n",
       "      <td>4.039649</td>\n",
       "    </tr>\n",
       "    <tr>\n",
       "      <th>[50-60)</th>\n",
       "      <td>4.125753</td>\n",
       "    </tr>\n",
       "    <tr>\n",
       "      <th>[60-70)</th>\n",
       "      <td>4.382244</td>\n",
       "    </tr>\n",
       "    <tr>\n",
       "      <th>[70-80)</th>\n",
       "      <td>4.590878</td>\n",
       "    </tr>\n",
       "    <tr>\n",
       "      <th>[80-90)</th>\n",
       "      <td>4.808629</td>\n",
       "    </tr>\n",
       "    <tr>\n",
       "      <th>[90-100)</th>\n",
       "      <td>4.755818</td>\n",
       "    </tr>\n",
       "  </tbody>\n",
       "</table>\n",
       "</div>"
      ],
      "text/plain": [
       "          time_in_hospital\n",
       "age                       \n",
       "[0-10)            2.546584\n",
       "[10-20)           3.191027\n",
       "[20-30)           3.564876\n",
       "[30-40)           3.799735\n",
       "[40-50)           4.039649\n",
       "[50-60)           4.125753\n",
       "[60-70)           4.382244\n",
       "[70-80)           4.590878\n",
       "[80-90)           4.808629\n",
       "[90-100)          4.755818"
      ]
     },
     "execution_count": 36,
     "metadata": {},
     "output_type": "execute_result"
    }
   ],
   "source": [
    "t_in_h"
   ]
  },
  {
   "cell_type": "code",
   "execution_count": 37,
   "id": "6426f460",
   "metadata": {
    "execution": {
     "iopub.execute_input": "2022-07-19T15:16:04.053189Z",
     "iopub.status.busy": "2022-07-19T15:16:04.052646Z",
     "iopub.status.idle": "2022-07-19T15:16:04.058459Z",
     "shell.execute_reply": "2022-07-19T15:16:04.057267Z"
    },
    "papermill": {
     "duration": 0.026106,
     "end_time": "2022-07-19T15:16:04.060872",
     "exception": false,
     "start_time": "2022-07-19T15:16:04.034766",
     "status": "completed"
    },
    "tags": []
   },
   "outputs": [],
   "source": [
    "l1 = list(t_in_h.index.values)\n",
    "l2 = list(t_in_h[\"time_in_hospital\"])"
   ]
  },
  {
   "cell_type": "code",
   "execution_count": 38,
   "id": "0cae9df0",
   "metadata": {
    "execution": {
     "iopub.execute_input": "2022-07-19T15:16:04.094283Z",
     "iopub.status.busy": "2022-07-19T15:16:04.093663Z",
     "iopub.status.idle": "2022-07-19T15:16:04.100351Z",
     "shell.execute_reply": "2022-07-19T15:16:04.099288Z"
    },
    "papermill": {
     "duration": 0.026155,
     "end_time": "2022-07-19T15:16:04.102486",
     "exception": false,
     "start_time": "2022-07-19T15:16:04.076331",
     "status": "completed"
    },
    "tags": []
   },
   "outputs": [
    {
     "data": {
      "text/plain": [
       "['[0-10)',\n",
       " '[10-20)',\n",
       " '[20-30)',\n",
       " '[30-40)',\n",
       " '[40-50)',\n",
       " '[50-60)',\n",
       " '[60-70)',\n",
       " '[70-80)',\n",
       " '[80-90)',\n",
       " '[90-100)']"
      ]
     },
     "execution_count": 38,
     "metadata": {},
     "output_type": "execute_result"
    }
   ],
   "source": [
    "l1"
   ]
  },
  {
   "cell_type": "code",
   "execution_count": 39,
   "id": "25e47fdd",
   "metadata": {
    "execution": {
     "iopub.execute_input": "2022-07-19T15:16:04.136241Z",
     "iopub.status.busy": "2022-07-19T15:16:04.135827Z",
     "iopub.status.idle": "2022-07-19T15:16:04.142699Z",
     "shell.execute_reply": "2022-07-19T15:16:04.141802Z"
    },
    "papermill": {
     "duration": 0.026709,
     "end_time": "2022-07-19T15:16:04.145401",
     "exception": false,
     "start_time": "2022-07-19T15:16:04.118692",
     "status": "completed"
    },
    "tags": []
   },
   "outputs": [
    {
     "data": {
      "text/plain": [
       "[2.546583850931677,\n",
       " 3.191027496382055,\n",
       " 3.5648762824381413,\n",
       " 3.7997350993377483,\n",
       " 4.039648941662365,\n",
       " 4.125753361149745,\n",
       " 4.382244362407152,\n",
       " 4.590877704465245,\n",
       " 4.808629412106763,\n",
       " 4.755818116720373]"
      ]
     },
     "execution_count": 39,
     "metadata": {},
     "output_type": "execute_result"
    }
   ],
   "source": [
    "l2"
   ]
  },
  {
   "cell_type": "code",
   "execution_count": 40,
   "id": "343b3149",
   "metadata": {
    "execution": {
     "iopub.execute_input": "2022-07-19T15:16:04.178079Z",
     "iopub.status.busy": "2022-07-19T15:16:04.177680Z",
     "iopub.status.idle": "2022-07-19T15:16:04.406389Z",
     "shell.execute_reply": "2022-07-19T15:16:04.405027Z"
    },
    "papermill": {
     "duration": 0.248146,
     "end_time": "2022-07-19T15:16:04.409067",
     "exception": false,
     "start_time": "2022-07-19T15:16:04.160921",
     "status": "completed"
    },
    "tags": []
   },
   "outputs": [
    {
     "data": {
      "image/png": "[encoded data removed]",
      "text/plain": [
       "<Figure size 700x400 with 1 Axes>"
      ]
     },
     "metadata": {
      "needs_background": "light"
     },
     "output_type": "display_data"
    }
   ],
   "source": [
    "plt.figure(figsize = (7,4), dpi = 100)\n",
    "\n",
    "bars = plt.bar(l1,l2, color = \"green\", hatch = \"/\")\n",
    "plt.ylabel(\"Average Days in Hospital ---->\", fontdict = {\"fontname\": \"Comic Sans MS\", \"fontsize\": 12})\n",
    "plt.xlabel(\"Age Group of Patients ---->\", fontdict = {\"fontname\": \"Comic Sans MS\", \"fontsize\": 12})\n",
    "\n",
    "plt.title(\"Days Spent in Hospital by Diabetes Patients\", fontdict = {\"fontweight\": \"bold\"})\n",
    "\n",
    "plt.show()"
   ]
  },
  {
   "cell_type": "markdown",
   "id": "f412215d",
   "metadata": {
    "papermill": {
     "duration": 0.016759,
     "end_time": "2022-07-19T15:16:04.442119",
     "exception": false,
     "start_time": "2022-07-19T15:16:04.425360",
     "status": "completed"
    },
    "tags": []
   },
   "source": [
    "**Patients in age group of [80-90) spend high number of day in hospital on an average.**"
   ]
  },
  {
   "cell_type": "code",
   "execution_count": 41,
   "id": "56b30ab9",
   "metadata": {
    "execution": {
     "iopub.execute_input": "2022-07-19T15:16:04.477342Z",
     "iopub.status.busy": "2022-07-19T15:16:04.476662Z",
     "iopub.status.idle": "2022-07-19T15:16:04.491301Z",
     "shell.execute_reply": "2022-07-19T15:16:04.490328Z"
    },
    "papermill": {
     "duration": 0.035627,
     "end_time": "2022-07-19T15:16:04.494089",
     "exception": false,
     "start_time": "2022-07-19T15:16:04.458462",
     "status": "completed"
    },
    "tags": []
   },
   "outputs": [],
   "source": [
    "num_lab = pd.DataFrame(diabetes[\"num_lab_procedures\"].groupby(diabetes[\"age\"]).mean())\n",
    "l1 = list(num_lab.index.values)\n",
    "l2 = list(num_lab[\"num_lab_procedures\"])"
   ]
  },
  {
   "cell_type": "code",
   "execution_count": 42,
   "id": "38765bb9",
   "metadata": {
    "execution": {
     "iopub.execute_input": "2022-07-19T15:16:04.529176Z",
     "iopub.status.busy": "2022-07-19T15:16:04.528506Z",
     "iopub.status.idle": "2022-07-19T15:16:04.751364Z",
     "shell.execute_reply": "2022-07-19T15:16:04.750551Z"
    },
    "papermill": {
     "duration": 0.243793,
     "end_time": "2022-07-19T15:16:04.753858",
     "exception": false,
     "start_time": "2022-07-19T15:16:04.510065",
     "status": "completed"
    },
    "tags": []
   },
   "outputs": [
    {
     "data": {
      "image/png": "[encoded data removed]",
      "text/plain": [
       "<Figure size 700x400 with 1 Axes>"
      ]
     },
     "metadata": {
      "needs_background": "light"
     },
     "output_type": "display_data"
    }
   ],
   "source": [
    "plt.figure(figsize = (7,4), dpi = 100)\n",
    "\n",
    "bars = plt.bar(l1,l2, color = \"maroon\", hatch = \".\")\n",
    "plt.ylabel(\"Average Number of Procedures ---->\", fontdict = {\"fontname\": \"Comic Sans MS\", \"fontsize\": 12})\n",
    "plt.xlabel(\"Age Group of Patients ---->\", fontdict = {\"fontname\": \"Comic Sans MS\", \"fontsize\": 12})\n",
    "\n",
    "plt.title(\"Average Number of Lab Procedures by Diabetes Patients\", fontdict = {\"fontweight\": \"bold\"})\n",
    "\n",
    "plt.show()"
   ]
  },
  {
   "cell_type": "markdown",
   "id": "499f9280",
   "metadata": {
    "papermill": {
     "duration": 0.017092,
     "end_time": "2022-07-19T15:16:04.787731",
     "exception": false,
     "start_time": "2022-07-19T15:16:04.770639",
     "status": "completed"
    },
    "tags": []
   },
   "source": [
    "**Average number of Lab Procedures are almost similar for all age groups with slight increase above age of 70.**"
   ]
  },
  {
   "cell_type": "code",
   "execution_count": 43,
   "id": "bf5900bd",
   "metadata": {
    "execution": {
     "iopub.execute_input": "2022-07-19T15:16:04.823839Z",
     "iopub.status.busy": "2022-07-19T15:16:04.823126Z",
     "iopub.status.idle": "2022-07-19T15:16:04.838122Z",
     "shell.execute_reply": "2022-07-19T15:16:04.837221Z"
    },
    "papermill": {
     "duration": 0.035717,
     "end_time": "2022-07-19T15:16:04.840618",
     "exception": false,
     "start_time": "2022-07-19T15:16:04.804901",
     "status": "completed"
    },
    "tags": []
   },
   "outputs": [],
   "source": [
    "num_diag = pd.DataFrame(diabetes[\"number_diagnoses\"].groupby(diabetes[\"age\"]).mean())\n",
    "l1 = list(num_diag.index.values)\n",
    "l2 = list(num_diag[\"number_diagnoses\"])"
   ]
  },
  {
   "cell_type": "code",
   "execution_count": 44,
   "id": "a48d4d5f",
   "metadata": {
    "execution": {
     "iopub.execute_input": "2022-07-19T15:16:04.877753Z",
     "iopub.status.busy": "2022-07-19T15:16:04.877319Z",
     "iopub.status.idle": "2022-07-19T15:16:05.224378Z",
     "shell.execute_reply": "2022-07-19T15:16:05.223497Z"
    },
    "papermill": {
     "duration": 0.368399,
     "end_time": "2022-07-19T15:16:05.226527",
     "exception": false,
     "start_time": "2022-07-19T15:16:04.858128",
     "status": "completed"
    },
    "tags": []
   },
   "outputs": [
    {
     "data": {
      "image/png": "[encoded data removed]",
      "text/plain": [
       "<Figure size 700x400 with 1 Axes>"
      ]
     },
     "metadata": {
      "needs_background": "light"
     },
     "output_type": "display_data"
    }
   ],
   "source": [
    "plt.figure(figsize = (7,4), dpi = 100)\n",
    "\n",
    "bars = plt.bar(l1,l2, color = \"navy\", hatch = \"+\")\n",
    "plt.ylabel(\"Average Number of Diagnoses ---->\", fontdict = {\"fontname\": \"Comic Sans MS\", \"fontsize\": 12})\n",
    "plt.xlabel(\"Age Group of Patients ---->\", fontdict = {\"fontname\": \"Comic Sans MS\", \"fontsize\": 12})\n",
    "\n",
    "plt.title(\"Average Number of Diagnoses by Diabetes Patients\", fontdict = {\"fontweight\": \"bold\"})\n",
    "\n",
    "plt.show()"
   ]
  },
  {
   "cell_type": "markdown",
   "id": "2ef7cd78",
   "metadata": {
    "papermill": {
     "duration": 0.017848,
     "end_time": "2022-07-19T15:16:05.266927",
     "exception": false,
     "start_time": "2022-07-19T15:16:05.249079",
     "status": "completed"
    },
    "tags": []
   },
   "source": [
    "**Average number of Diagnoses increase significantly during early age but becomes steady between 7-8 procedures after 60 year of age.**"
   ]
  },
  {
   "cell_type": "code",
   "execution_count": 45,
   "id": "9699fba8",
   "metadata": {
    "execution": {
     "iopub.execute_input": "2022-07-19T15:16:05.303269Z",
     "iopub.status.busy": "2022-07-19T15:16:05.302644Z",
     "iopub.status.idle": "2022-07-19T15:16:05.315164Z",
     "shell.execute_reply": "2022-07-19T15:16:05.314233Z"
    },
    "papermill": {
     "duration": 0.033452,
     "end_time": "2022-07-19T15:16:05.317605",
     "exception": false,
     "start_time": "2022-07-19T15:16:05.284153",
     "status": "completed"
    },
    "tags": []
   },
   "outputs": [],
   "source": [
    "df = diabetes.groupby([\"insulin\"]).size().sort_values(ascending = False)"
   ]
  },
  {
   "cell_type": "code",
   "execution_count": 46,
   "id": "7edba3a6",
   "metadata": {
    "execution": {
     "iopub.execute_input": "2022-07-19T15:16:05.353798Z",
     "iopub.status.busy": "2022-07-19T15:16:05.353388Z",
     "iopub.status.idle": "2022-07-19T15:16:05.361497Z",
     "shell.execute_reply": "2022-07-19T15:16:05.360635Z"
    },
    "papermill": {
     "duration": 0.028497,
     "end_time": "2022-07-19T15:16:05.363539",
     "exception": false,
     "start_time": "2022-07-19T15:16:05.335042",
     "status": "completed"
    },
    "tags": []
   },
   "outputs": [
    {
     "data": {
      "text/plain": [
       "insulin\n",
       "No        47383\n",
       "Steady    30849\n",
       "Down      12218\n",
       "Up        11316\n",
       "dtype: int64"
      ]
     },
     "execution_count": 46,
     "metadata": {},
     "output_type": "execute_result"
    }
   ],
   "source": [
    "df"
   ]
  },
  {
   "cell_type": "code",
   "execution_count": 47,
   "id": "f6394d7c",
   "metadata": {
    "execution": {
     "iopub.execute_input": "2022-07-19T15:16:05.399666Z",
     "iopub.status.busy": "2022-07-19T15:16:05.399253Z",
     "iopub.status.idle": "2022-07-19T15:16:05.550205Z",
     "shell.execute_reply": "2022-07-19T15:16:05.548847Z"
    },
    "papermill": {
     "duration": 0.172087,
     "end_time": "2022-07-19T15:16:05.552827",
     "exception": false,
     "start_time": "2022-07-19T15:16:05.380740",
     "status": "completed"
    },
    "tags": []
   },
   "outputs": [],
   "source": [
    "Steady = diabetes.loc[diabetes[\"insulin\"]==\"Steady\"].count()[0]\n",
    "Down = diabetes.loc[diabetes[\"insulin\"]==\"Down\"].count()[0]\n",
    "Up = diabetes.loc[diabetes[\"insulin\"]==\"Up\"].count()[0]"
   ]
  },
  {
   "cell_type": "code",
   "execution_count": 48,
   "id": "350cdf9b",
   "metadata": {
    "execution": {
     "iopub.execute_input": "2022-07-19T15:16:05.590816Z",
     "iopub.status.busy": "2022-07-19T15:16:05.589719Z",
     "iopub.status.idle": "2022-07-19T15:16:05.785998Z",
     "shell.execute_reply": "2022-07-19T15:16:05.784269Z"
    },
    "papermill": {
     "duration": 0.218555,
     "end_time": "2022-07-19T15:16:05.788955",
     "exception": false,
     "start_time": "2022-07-19T15:16:05.570400",
     "status": "completed"
    },
    "tags": []
   },
   "outputs": [
    {
     "data": {
      "image/png": "[encoded data removed]",
      "text/plain": [
       "<Figure size 600x600 with 1 Axes>"
      ]
     },
     "metadata": {},
     "output_type": "display_data"
    }
   ],
   "source": [
    "plt.figure(figsize = [5,5], dpi = 120)\n",
    "labels = [\"Steady\", \"Down\", \"Up\"]\n",
    "\n",
    "plt.pie([Steady, Down, Up], labels = labels, autopct = \"%0.2f%%\")\n",
    "plt.title(\"Diabetes Patients by Insulin\", fontdict = {\"fontweight\": \"bold\"})\n",
    "\n",
    "plt.legend()\n",
    "plt.show()"
   ]
  },
  {
   "cell_type": "markdown",
   "id": "ac909863",
   "metadata": {
    "papermill": {
     "duration": 0.017236,
     "end_time": "2022-07-19T15:16:05.824214",
     "exception": false,
     "start_time": "2022-07-19T15:16:05.806978",
     "status": "completed"
    },
    "tags": []
   },
   "source": [
    "**Majority of patients have insulin level steady.**"
   ]
  },
  {
   "cell_type": "code",
   "execution_count": 49,
   "id": "c2551d1a",
   "metadata": {
    "execution": {
     "iopub.execute_input": "2022-07-19T15:16:05.861357Z",
     "iopub.status.busy": "2022-07-19T15:16:05.860978Z",
     "iopub.status.idle": "2022-07-19T15:16:05.874041Z",
     "shell.execute_reply": "2022-07-19T15:16:05.872845Z"
    },
    "papermill": {
     "duration": 0.035054,
     "end_time": "2022-07-19T15:16:05.876901",
     "exception": false,
     "start_time": "2022-07-19T15:16:05.841847",
     "status": "completed"
    },
    "tags": []
   },
   "outputs": [],
   "source": [
    "df = diabetes.groupby([\"diabetesMed\"]).size().sort_values(ascending = False)"
   ]
  },
  {
   "cell_type": "code",
   "execution_count": 50,
   "id": "59184631",
   "metadata": {
    "execution": {
     "iopub.execute_input": "2022-07-19T15:16:05.915161Z",
     "iopub.status.busy": "2022-07-19T15:16:05.914122Z",
     "iopub.status.idle": "2022-07-19T15:16:05.922009Z",
     "shell.execute_reply": "2022-07-19T15:16:05.920892Z"
    },
    "papermill": {
     "duration": 0.029543,
     "end_time": "2022-07-19T15:16:05.924227",
     "exception": false,
     "start_time": "2022-07-19T15:16:05.894684",
     "status": "completed"
    },
    "tags": []
   },
   "outputs": [
    {
     "data": {
      "text/plain": [
       "diabetesMed\n",
       "Yes    78363\n",
       "No     23403\n",
       "dtype: int64"
      ]
     },
     "execution_count": 50,
     "metadata": {},
     "output_type": "execute_result"
    }
   ],
   "source": [
    "df"
   ]
  },
  {
   "cell_type": "code",
   "execution_count": 51,
   "id": "6ea1706a",
   "metadata": {
    "execution": {
     "iopub.execute_input": "2022-07-19T15:16:05.963482Z",
     "iopub.status.busy": "2022-07-19T15:16:05.962731Z",
     "iopub.status.idle": "2022-07-19T15:16:06.186527Z",
     "shell.execute_reply": "2022-07-19T15:16:06.185716Z"
    },
    "papermill": {
     "duration": 0.246551,
     "end_time": "2022-07-19T15:16:06.188903",
     "exception": false,
     "start_time": "2022-07-19T15:16:05.942352",
     "status": "completed"
    },
    "tags": []
   },
   "outputs": [],
   "source": [
    "Yes = diabetes.loc[diabetes[\"diabetesMed\"]==\"Yes\"].count()[0]\n",
    "No = diabetes.loc[diabetes[\"diabetesMed\"]==\"No\"].count()[0]"
   ]
  },
  {
   "cell_type": "code",
   "execution_count": 52,
   "id": "205f1082",
   "metadata": {
    "execution": {
     "iopub.execute_input": "2022-07-19T15:16:06.227355Z",
     "iopub.status.busy": "2022-07-19T15:16:06.226620Z",
     "iopub.status.idle": "2022-07-19T15:16:06.389866Z",
     "shell.execute_reply": "2022-07-19T15:16:06.388636Z"
    },
    "papermill": {
     "duration": 0.185285,
     "end_time": "2022-07-19T15:16:06.392271",
     "exception": false,
     "start_time": "2022-07-19T15:16:06.206986",
     "status": "completed"
    },
    "tags": []
   },
   "outputs": [
    {
     "data": {
      "image/png": "[encoded data removed]",
      "text/plain": [
       "<Figure size 600x600 with 1 Axes>"
      ]
     },
     "metadata": {},
     "output_type": "display_data"
    }
   ],
   "source": [
    "plt.figure(figsize = [5,5], dpi = 120)\n",
    "labels = [\"Yes\", \"No\"]\n",
    "\n",
    "plt.pie([Yes, No], labels = labels, autopct = \"%0.2f%%\")\n",
    "plt.title(\"Diabetes Patients Taking Medicine\", fontdict = {\"fontweight\": \"bold\"})\n",
    "\n",
    "plt.legend()\n",
    "plt.show()"
   ]
  },
  {
   "cell_type": "markdown",
   "id": "010cc658",
   "metadata": {
    "papermill": {
     "duration": 0.018607,
     "end_time": "2022-07-19T15:16:06.429965",
     "exception": false,
     "start_time": "2022-07-19T15:16:06.411358",
     "status": "completed"
    },
    "tags": []
   },
   "source": [
    "**77% of patients are taking their medicines while 23% are not taking medicine.**"
   ]
  }
 ],
 "metadata": {
  "kernelspec": {
   "display_name": "Python 3 (ipykernel)",
   "language": "python",
   "name": "python3"
  },
  "language_info": {
   "codemirror_mode": {
    "name": "ipython",
    "version": 3
   },
   "file_extension": ".py",
   "mimetype": "text/x-python",
   "name": "python",
   "nbconvert_exporter": "python",
   "pygments_lexer": "ipython3",
   "version": "3.10.5"
  },
  "papermill": {
   "default_parameters": {},
   "duration": 19.532273,
   "end_time": "2022-07-19T15:16:07.170856",
   "environment_variables": {},
   "exception": null,
   "input_path": "__notebook__.ipynb",
   "output_path": "__notebook__.ipynb",
   "parameters": {},
   "start_time": "2022-07-19T15:15:47.638583",
   "version": "2.3.4"
  }
 },
 "nbformat": 4,
 "nbformat_minor": 5
}
